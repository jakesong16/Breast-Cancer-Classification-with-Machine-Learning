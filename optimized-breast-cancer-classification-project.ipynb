{
 "cells": [
  {
   "cell_type": "markdown",
   "id": "3e48bacd",
   "metadata": {
    "papermill": {
     "duration": 0.003718,
     "end_time": "2023-07-18T21:45:23.835810",
     "exception": false,
     "start_time": "2023-07-18T21:45:23.832092",
     "status": "completed"
    },
    "tags": []
   },
   "source": [
    "# Import important library"
   ]
  },
  {
   "cell_type": "code",
   "execution_count": 1,
   "id": "ac9f03fc",
   "metadata": {
    "_cell_guid": "b1076dfc-b9ad-4769-8c92-a6c4dae69d19",
    "_uuid": "8f2839f25d086af736a60e9eeb907d3b93b6e0e5",
    "execution": {
     "iopub.execute_input": "2023-07-18T21:45:23.844418Z",
     "iopub.status.busy": "2023-07-18T21:45:23.843702Z",
     "iopub.status.idle": "2023-07-18T21:45:23.852639Z",
     "shell.execute_reply": "2023-07-18T21:45:23.852000Z"
    },
    "papermill": {
     "duration": 0.015226,
     "end_time": "2023-07-18T21:45:23.854323",
     "exception": false,
     "start_time": "2023-07-18T21:45:23.839097",
     "status": "completed"
    },
    "tags": []
   },
   "outputs": [],
   "source": [
    "import numpy as np # linear algebra\n",
    "import pandas as pd # data processing, CSV file I/O (e.g. pd.read_csv)"
   ]
  },
  {
   "cell_type": "code",
   "execution_count": 2,
   "id": "008cd81d",
   "metadata": {
    "execution": {
     "iopub.execute_input": "2023-07-18T21:45:23.862448Z",
     "iopub.status.busy": "2023-07-18T21:45:23.861895Z",
     "iopub.status.idle": "2023-07-18T21:45:23.888355Z",
     "shell.execute_reply": "2023-07-18T21:45:23.887411Z"
    },
    "papermill": {
     "duration": 0.032754,
     "end_time": "2023-07-18T21:45:23.890392",
     "exception": false,
     "start_time": "2023-07-18T21:45:23.857638",
     "status": "completed"
    },
    "tags": []
   },
   "outputs": [],
   "source": [
    "# Read CSV file\n",
    "path = \"/kaggle/input/breast-cancer-wisconsin-data/data.csv\"\n",
    "data = pd.read_csv(path)"
   ]
  },
  {
   "cell_type": "code",
   "execution_count": 3,
   "id": "ee1790b3",
   "metadata": {
    "execution": {
     "iopub.execute_input": "2023-07-18T21:45:23.898048Z",
     "iopub.status.busy": "2023-07-18T21:45:23.897776Z",
     "iopub.status.idle": "2023-07-18T21:45:23.912292Z",
     "shell.execute_reply": "2023-07-18T21:45:23.911407Z"
    },
    "papermill": {
     "duration": 0.020191,
     "end_time": "2023-07-18T21:45:23.913942",
     "exception": false,
     "start_time": "2023-07-18T21:45:23.893751",
     "status": "completed"
    },
    "tags": []
   },
   "outputs": [],
   "source": [
    "# Clean unnecessary data\n",
    "columns_to_keep = ['diagnosis', 'perimeter_mean', 'radius_mean', 'texture_mean', 'area_mean',\n",
    "                   'smoothness_mean', 'concavity_mean', 'symmetry_mean']\n",
    "data = data.drop(columns=[col for col in data.columns if col not in columns_to_keep], axis = 1)"
   ]
  },
  {
   "cell_type": "code",
   "execution_count": 4,
   "id": "7821bcd7",
   "metadata": {
    "execution": {
     "iopub.execute_input": "2023-07-18T21:45:23.921877Z",
     "iopub.status.busy": "2023-07-18T21:45:23.921265Z",
     "iopub.status.idle": "2023-07-18T21:45:23.927361Z",
     "shell.execute_reply": "2023-07-18T21:45:23.926516Z"
    },
    "papermill": {
     "duration": 0.011781,
     "end_time": "2023-07-18T21:45:23.929105",
     "exception": false,
     "start_time": "2023-07-18T21:45:23.917324",
     "status": "completed"
    },
    "tags": []
   },
   "outputs": [],
   "source": [
    "# Convert \"Malignant\" and \"Benign\" to 1 and 0\n",
    "data.diagnosis = [1 if val == 'M' else 0 for val in data.diagnosis]"
   ]
  },
  {
   "cell_type": "markdown",
   "id": "09c72f04",
   "metadata": {
    "papermill": {
     "duration": 0.00301,
     "end_time": "2023-07-18T21:45:23.935632",
     "exception": false,
     "start_time": "2023-07-18T21:45:23.932622",
     "status": "completed"
    },
    "tags": []
   },
   "source": [
    "# Create predictors and target variable"
   ]
  },
  {
   "cell_type": "code",
   "execution_count": 5,
   "id": "3e2acfa5",
   "metadata": {
    "execution": {
     "iopub.execute_input": "2023-07-18T21:45:23.943266Z",
     "iopub.status.busy": "2023-07-18T21:45:23.942949Z",
     "iopub.status.idle": "2023-07-18T21:45:23.947973Z",
     "shell.execute_reply": "2023-07-18T21:45:23.947167Z"
    },
    "papermill": {
     "duration": 0.011194,
     "end_time": "2023-07-18T21:45:23.950023",
     "exception": false,
     "start_time": "2023-07-18T21:45:23.938829",
     "status": "completed"
    },
    "tags": []
   },
   "outputs": [],
   "source": [
    "# Create predictors and target variable\n",
    "X = data.drop(['diagnosis'], axis = 1)\n",
    "y = data.diagnosis"
   ]
  },
  {
   "cell_type": "code",
   "execution_count": 6,
   "id": "2e50fd8c",
   "metadata": {
    "execution": {
     "iopub.execute_input": "2023-07-18T21:45:23.957706Z",
     "iopub.status.busy": "2023-07-18T21:45:23.957460Z",
     "iopub.status.idle": "2023-07-18T21:45:24.890817Z",
     "shell.execute_reply": "2023-07-18T21:45:24.889915Z"
    },
    "papermill": {
     "duration": 0.939543,
     "end_time": "2023-07-18T21:45:24.893006",
     "exception": false,
     "start_time": "2023-07-18T21:45:23.953463",
     "status": "completed"
    },
    "tags": []
   },
   "outputs": [
    {
     "name": "stderr",
     "output_type": "stream",
     "text": [
      "/opt/conda/lib/python3.10/site-packages/scipy/__init__.py:146: UserWarning: A NumPy version >=1.16.5 and <1.23.0 is required for this version of SciPy (detected version 1.23.5\n",
      "  warnings.warn(f\"A NumPy version >={np_minversion} and <{np_maxversion}\"\n"
     ]
    }
   ],
   "source": [
    "# Normalize the predictor values\n",
    "from sklearn.preprocessing import StandardScaler\n",
    "scaler = StandardScaler()\n",
    "X_scaled = scaler.fit_transform(X)"
   ]
  },
  {
   "cell_type": "markdown",
   "id": "67459119",
   "metadata": {
    "papermill": {
     "duration": 0.002926,
     "end_time": "2023-07-18T21:45:24.899358",
     "exception": false,
     "start_time": "2023-07-18T21:45:24.896432",
     "status": "completed"
    },
    "tags": []
   },
   "source": [
    "# Split data in train and test"
   ]
  },
  {
   "cell_type": "code",
   "execution_count": 7,
   "id": "8cb9cafb",
   "metadata": {
    "execution": {
     "iopub.execute_input": "2023-07-18T21:45:24.906788Z",
     "iopub.status.busy": "2023-07-18T21:45:24.906519Z",
     "iopub.status.idle": "2023-07-18T21:45:25.005105Z",
     "shell.execute_reply": "2023-07-18T21:45:25.004391Z"
    },
    "papermill": {
     "duration": 0.104755,
     "end_time": "2023-07-18T21:45:25.007161",
     "exception": false,
     "start_time": "2023-07-18T21:45:24.902406",
     "status": "completed"
    },
    "tags": []
   },
   "outputs": [],
   "source": [
    "from sklearn.model_selection import train_test_split as tts\n",
    "\n",
    "X_train, X_test, y_train, y_test = tts(X_scaled, y, test_size = 0.75, random_state=100)"
   ]
  },
  {
   "cell_type": "markdown",
   "id": "c9d364d8",
   "metadata": {
    "papermill": {
     "duration": 0.003049,
     "end_time": "2023-07-18T21:45:25.013869",
     "exception": false,
     "start_time": "2023-07-18T21:45:25.010820",
     "status": "completed"
    },
    "tags": []
   },
   "source": [
    "# Train the data"
   ]
  },
  {
   "cell_type": "code",
   "execution_count": 8,
   "id": "12362f0d",
   "metadata": {
    "execution": {
     "iopub.execute_input": "2023-07-18T21:45:25.022000Z",
     "iopub.status.busy": "2023-07-18T21:45:25.021261Z",
     "iopub.status.idle": "2023-07-18T21:45:25.110128Z",
     "shell.execute_reply": "2023-07-18T21:45:25.109492Z"
    },
    "papermill": {
     "duration": 0.095138,
     "end_time": "2023-07-18T21:45:25.112110",
     "exception": false,
     "start_time": "2023-07-18T21:45:25.016972",
     "status": "completed"
    },
    "tags": []
   },
   "outputs": [],
   "source": [
    "from sklearn.linear_model import LogisticRegression\n",
    "LogReg = LogisticRegression()\n",
    "\n",
    "LogReg.fit(X_train, y_train)\n",
    "y_predict = LogReg.predict(X_test)"
   ]
  },
  {
   "cell_type": "markdown",
   "id": "9a7fcbd7",
   "metadata": {
    "papermill": {
     "duration": 0.003006,
     "end_time": "2023-07-18T21:45:25.119654",
     "exception": false,
     "start_time": "2023-07-18T21:45:25.116648",
     "status": "completed"
    },
    "tags": []
   },
   "source": [
    "# Evaluate the accuracy"
   ]
  },
  {
   "cell_type": "code",
   "execution_count": 9,
   "id": "2827d97b",
   "metadata": {
    "execution": {
     "iopub.execute_input": "2023-07-18T21:45:25.127528Z",
     "iopub.status.busy": "2023-07-18T21:45:25.127056Z",
     "iopub.status.idle": "2023-07-18T21:45:25.132171Z",
     "shell.execute_reply": "2023-07-18T21:45:25.131235Z"
    },
    "papermill": {
     "duration": 0.011129,
     "end_time": "2023-07-18T21:45:25.133992",
     "exception": false,
     "start_time": "2023-07-18T21:45:25.122863",
     "status": "completed"
    },
    "tags": []
   },
   "outputs": [
    {
     "name": "stdout",
     "output_type": "stream",
     "text": [
      "Accuracy:  93.91100702576112\n"
     ]
    }
   ],
   "source": [
    "from sklearn.metrics import accuracy_score\n",
    "accuracy = accuracy_score(y_test, y_predict)\n",
    "print(\"Accuracy: \", accuracy*100)"
   ]
  },
  {
   "cell_type": "code",
   "execution_count": 10,
   "id": "b9bfd2c1",
   "metadata": {
    "execution": {
     "iopub.execute_input": "2023-07-18T21:45:25.141935Z",
     "iopub.status.busy": "2023-07-18T21:45:25.141690Z",
     "iopub.status.idle": "2023-07-18T21:45:25.151640Z",
     "shell.execute_reply": "2023-07-18T21:45:25.150570Z"
    },
    "papermill": {
     "duration": 0.016078,
     "end_time": "2023-07-18T21:45:25.153640",
     "exception": false,
     "start_time": "2023-07-18T21:45:25.137562",
     "status": "completed"
    },
    "tags": []
   },
   "outputs": [
    {
     "name": "stdout",
     "output_type": "stream",
     "text": [
      "              precision    recall  f1-score   support\n",
      "\n",
      "           0       0.95      0.96      0.95       273\n",
      "           1       0.92      0.91      0.92       154\n",
      "\n",
      "    accuracy                           0.94       427\n",
      "   macro avg       0.94      0.93      0.93       427\n",
      "weighted avg       0.94      0.94      0.94       427\n",
      "\n"
     ]
    }
   ],
   "source": [
    "from sklearn.metrics import classification_report\n",
    "print(classification_report(y_test, y_predict))"
   ]
  }
 ],
 "metadata": {
  "kernelspec": {
   "display_name": "Python 3",
   "language": "python",
   "name": "python3"
  },
  "language_info": {
   "codemirror_mode": {
    "name": "ipython",
    "version": 3
   },
   "file_extension": ".py",
   "mimetype": "text/x-python",
   "name": "python",
   "nbconvert_exporter": "python",
   "pygments_lexer": "ipython3",
   "version": "3.10.12"
  },
  "papermill": {
   "default_parameters": {},
   "duration": 10.477982,
   "end_time": "2023-07-18T21:45:25.875992",
   "environment_variables": {},
   "exception": null,
   "input_path": "__notebook__.ipynb",
   "output_path": "__notebook__.ipynb",
   "parameters": {},
   "start_time": "2023-07-18T21:45:15.398010",
   "version": "2.4.0"
  }
 },
 "nbformat": 4,
 "nbformat_minor": 5
}
