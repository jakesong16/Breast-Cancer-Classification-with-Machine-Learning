{
 "cells": [
  {
   "cell_type": "markdown",
   "id": "9aac6c4a",
   "metadata": {
    "papermill": {
     "duration": 0.004271,
     "end_time": "2023-07-18T21:38:25.365787",
     "exception": false,
     "start_time": "2023-07-18T21:38:25.361516",
     "status": "completed"
    },
    "tags": []
   },
   "source": [
    "# Import important libraries\n"
   ]
  },
  {
   "cell_type": "code",
   "execution_count": 1,
   "id": "8998324e",
   "metadata": {
    "_cell_guid": "b1076dfc-b9ad-4769-8c92-a6c4dae69d19",
    "_uuid": "8f2839f25d086af736a60e9eeb907d3b93b6e0e5",
    "execution": {
     "iopub.execute_input": "2023-07-18T21:38:25.377015Z",
     "iopub.status.busy": "2023-07-18T21:38:25.376153Z",
     "iopub.status.idle": "2023-07-18T21:38:25.388104Z",
     "shell.execute_reply": "2023-07-18T21:38:25.387227Z"
    },
    "papermill": {
     "duration": 0.020033,
     "end_time": "2023-07-18T21:38:25.390297",
     "exception": false,
     "start_time": "2023-07-18T21:38:25.370264",
     "status": "completed"
    },
    "tags": []
   },
   "outputs": [],
   "source": [
    "import numpy as np # linear algebra\n",
    "import pandas as pd # data processing, CSV file I/O (e.g. pd.read_csv)"
   ]
  },
  {
   "cell_type": "code",
   "execution_count": 2,
   "id": "a4b18e9c",
   "metadata": {
    "execution": {
     "iopub.execute_input": "2023-07-18T21:38:25.400070Z",
     "iopub.status.busy": "2023-07-18T21:38:25.399673Z",
     "iopub.status.idle": "2023-07-18T21:38:25.427641Z",
     "shell.execute_reply": "2023-07-18T21:38:25.426759Z"
    },
    "papermill": {
     "duration": 0.035622,
     "end_time": "2023-07-18T21:38:25.429971",
     "exception": false,
     "start_time": "2023-07-18T21:38:25.394349",
     "status": "completed"
    },
    "tags": []
   },
   "outputs": [],
   "source": [
    "# Read CSV file\n",
    "path = \"/kaggle/input/breast-cancer-wisconsin-data/data.csv\"\n",
    "data = pd.read_csv(path)"
   ]
  },
  {
   "cell_type": "code",
   "execution_count": 3,
   "id": "ddcf7a59",
   "metadata": {
    "execution": {
     "iopub.execute_input": "2023-07-18T21:38:25.439386Z",
     "iopub.status.busy": "2023-07-18T21:38:25.438950Z",
     "iopub.status.idle": "2023-07-18T21:38:25.453694Z",
     "shell.execute_reply": "2023-07-18T21:38:25.452644Z"
    },
    "papermill": {
     "duration": 0.022359,
     "end_time": "2023-07-18T21:38:25.456173",
     "exception": false,
     "start_time": "2023-07-18T21:38:25.433814",
     "status": "completed"
    },
    "tags": []
   },
   "outputs": [],
   "source": [
    "# Clean unnecessary data\n",
    "data = data.drop(['Unnamed: 32', 'id'], axis = 1)"
   ]
  },
  {
   "cell_type": "code",
   "execution_count": 4,
   "id": "0770bd20",
   "metadata": {
    "execution": {
     "iopub.execute_input": "2023-07-18T21:38:25.465580Z",
     "iopub.status.busy": "2023-07-18T21:38:25.465167Z",
     "iopub.status.idle": "2023-07-18T21:38:25.471716Z",
     "shell.execute_reply": "2023-07-18T21:38:25.470717Z"
    },
    "papermill": {
     "duration": 0.013759,
     "end_time": "2023-07-18T21:38:25.473779",
     "exception": false,
     "start_time": "2023-07-18T21:38:25.460020",
     "status": "completed"
    },
    "tags": []
   },
   "outputs": [],
   "source": [
    "# Convert \"Malignant\" and \"Benign\" to 1 and 0\n",
    "data.diagnosis = [1 if val == 'M' else 0 for val in data.diagnosis]"
   ]
  },
  {
   "cell_type": "markdown",
   "id": "1767408c",
   "metadata": {
    "papermill": {
     "duration": 0.003413,
     "end_time": "2023-07-18T21:38:25.481057",
     "exception": false,
     "start_time": "2023-07-18T21:38:25.477644",
     "status": "completed"
    },
    "tags": []
   },
   "source": [
    "# Create predictors and target variable"
   ]
  },
  {
   "cell_type": "code",
   "execution_count": 5,
   "id": "d44c4437",
   "metadata": {
    "execution": {
     "iopub.execute_input": "2023-07-18T21:38:25.490524Z",
     "iopub.status.busy": "2023-07-18T21:38:25.489764Z",
     "iopub.status.idle": "2023-07-18T21:38:25.495396Z",
     "shell.execute_reply": "2023-07-18T21:38:25.494505Z"
    },
    "papermill": {
     "duration": 0.013093,
     "end_time": "2023-07-18T21:38:25.497811",
     "exception": false,
     "start_time": "2023-07-18T21:38:25.484718",
     "status": "completed"
    },
    "tags": []
   },
   "outputs": [],
   "source": [
    "# Create predictors and target variable\n",
    "X = data.drop(['diagnosis'], axis = 1)\n",
    "y = data.diagnosis"
   ]
  },
  {
   "cell_type": "code",
   "execution_count": 6,
   "id": "4a661df5",
   "metadata": {
    "execution": {
     "iopub.execute_input": "2023-07-18T21:38:25.507566Z",
     "iopub.status.busy": "2023-07-18T21:38:25.506860Z",
     "iopub.status.idle": "2023-07-18T21:38:26.713974Z",
     "shell.execute_reply": "2023-07-18T21:38:26.712800Z"
    },
    "papermill": {
     "duration": 1.215284,
     "end_time": "2023-07-18T21:38:26.716939",
     "exception": false,
     "start_time": "2023-07-18T21:38:25.501655",
     "status": "completed"
    },
    "tags": []
   },
   "outputs": [
    {
     "name": "stderr",
     "output_type": "stream",
     "text": [
      "/opt/conda/lib/python3.10/site-packages/scipy/__init__.py:146: UserWarning: A NumPy version >=1.16.5 and <1.23.0 is required for this version of SciPy (detected version 1.23.5\n",
      "  warnings.warn(f\"A NumPy version >={np_minversion} and <{np_maxversion}\"\n"
     ]
    }
   ],
   "source": [
    "# Normalize the predictor values\n",
    "from sklearn.preprocessing import StandardScaler\n",
    "scaler = StandardScaler()\n",
    "X_scaled = scaler.fit_transform(X)"
   ]
  },
  {
   "cell_type": "markdown",
   "id": "5ee0d8d7",
   "metadata": {
    "papermill": {
     "duration": 0.003788,
     "end_time": "2023-07-18T21:38:26.725243",
     "exception": false,
     "start_time": "2023-07-18T21:38:26.721455",
     "status": "completed"
    },
    "tags": []
   },
   "source": [
    "# Split data in train and test"
   ]
  },
  {
   "cell_type": "code",
   "execution_count": 7,
   "id": "7806d2b3",
   "metadata": {
    "execution": {
     "iopub.execute_input": "2023-07-18T21:38:26.735889Z",
     "iopub.status.busy": "2023-07-18T21:38:26.735478Z",
     "iopub.status.idle": "2023-07-18T21:38:26.875197Z",
     "shell.execute_reply": "2023-07-18T21:38:26.873871Z"
    },
    "papermill": {
     "duration": 0.148775,
     "end_time": "2023-07-18T21:38:26.878140",
     "exception": false,
     "start_time": "2023-07-18T21:38:26.729365",
     "status": "completed"
    },
    "tags": []
   },
   "outputs": [],
   "source": [
    "from sklearn.model_selection import train_test_split as tts\n",
    "\n",
    "X_train, X_test, y_train, y_test = tts(X_scaled, y, test_size = 0.75, random_state=100)"
   ]
  },
  {
   "cell_type": "markdown",
   "id": "2ca4f042",
   "metadata": {
    "papermill": {
     "duration": 0.003668,
     "end_time": "2023-07-18T21:38:26.885950",
     "exception": false,
     "start_time": "2023-07-18T21:38:26.882282",
     "status": "completed"
    },
    "tags": []
   },
   "source": [
    "# Train the data"
   ]
  },
  {
   "cell_type": "code",
   "execution_count": 8,
   "id": "66f74b1d",
   "metadata": {
    "execution": {
     "iopub.execute_input": "2023-07-18T21:38:26.896073Z",
     "iopub.status.busy": "2023-07-18T21:38:26.895442Z",
     "iopub.status.idle": "2023-07-18T21:38:27.031413Z",
     "shell.execute_reply": "2023-07-18T21:38:27.030060Z"
    },
    "papermill": {
     "duration": 0.14573,
     "end_time": "2023-07-18T21:38:27.035615",
     "exception": false,
     "start_time": "2023-07-18T21:38:26.889885",
     "status": "completed"
    },
    "tags": []
   },
   "outputs": [],
   "source": [
    "from sklearn.linear_model import LogisticRegression\n",
    "LogReg = LogisticRegression()\n",
    "\n",
    "LogReg.fit(X_train, y_train)\n",
    "y_predict = LogReg.predict(X_test)"
   ]
  },
  {
   "cell_type": "markdown",
   "id": "b6db793f",
   "metadata": {
    "papermill": {
     "duration": 0.006103,
     "end_time": "2023-07-18T21:38:27.051401",
     "exception": false,
     "start_time": "2023-07-18T21:38:27.045298",
     "status": "completed"
    },
    "tags": []
   },
   "source": [
    "# Evaluate the accuracy"
   ]
  },
  {
   "cell_type": "code",
   "execution_count": 9,
   "id": "30b9e9f6",
   "metadata": {
    "execution": {
     "iopub.execute_input": "2023-07-18T21:38:27.067265Z",
     "iopub.status.busy": "2023-07-18T21:38:27.066713Z",
     "iopub.status.idle": "2023-07-18T21:38:27.082698Z",
     "shell.execute_reply": "2023-07-18T21:38:27.081186Z"
    },
    "papermill": {
     "duration": 0.028346,
     "end_time": "2023-07-18T21:38:27.086304",
     "exception": false,
     "start_time": "2023-07-18T21:38:27.057958",
     "status": "completed"
    },
    "tags": []
   },
   "outputs": [
    {
     "name": "stdout",
     "output_type": "stream",
     "text": [
      "Accuracy:  98.59484777517564\n"
     ]
    }
   ],
   "source": [
    "from sklearn.metrics import accuracy_score\n",
    "accuracy = accuracy_score(y_test, y_predict)\n",
    "print(\"Accuracy: \", accuracy*100)"
   ]
  },
  {
   "cell_type": "code",
   "execution_count": 10,
   "id": "8c57e01d",
   "metadata": {
    "execution": {
     "iopub.execute_input": "2023-07-18T21:38:27.101997Z",
     "iopub.status.busy": "2023-07-18T21:38:27.101467Z",
     "iopub.status.idle": "2023-07-18T21:38:27.126665Z",
     "shell.execute_reply": "2023-07-18T21:38:27.125424Z"
    },
    "papermill": {
     "duration": 0.037621,
     "end_time": "2023-07-18T21:38:27.130654",
     "exception": false,
     "start_time": "2023-07-18T21:38:27.093033",
     "status": "completed"
    },
    "tags": []
   },
   "outputs": [
    {
     "name": "stdout",
     "output_type": "stream",
     "text": [
      "              precision    recall  f1-score   support\n",
      "\n",
      "           0       0.99      0.99      0.99       273\n",
      "           1       0.99      0.97      0.98       154\n",
      "\n",
      "    accuracy                           0.99       427\n",
      "   macro avg       0.99      0.98      0.98       427\n",
      "weighted avg       0.99      0.99      0.99       427\n",
      "\n"
     ]
    }
   ],
   "source": [
    "from sklearn.metrics import classification_report\n",
    "print(classification_report(y_test, y_predict))"
   ]
  }
 ],
 "metadata": {
  "kernelspec": {
   "display_name": "Python 3",
   "language": "python",
   "name": "python3"
  },
  "language_info": {
   "codemirror_mode": {
    "name": "ipython",
    "version": 3
   },
   "file_extension": ".py",
   "mimetype": "text/x-python",
   "name": "python",
   "nbconvert_exporter": "python",
   "pygments_lexer": "ipython3",
   "version": "3.10.12"
  },
  "papermill": {
   "default_parameters": {},
   "duration": 13.111609,
   "end_time": "2023-07-18T21:38:28.161970",
   "environment_variables": {},
   "exception": null,
   "input_path": "__notebook__.ipynb",
   "output_path": "__notebook__.ipynb",
   "parameters": {},
   "start_time": "2023-07-18T21:38:15.050361",
   "version": "2.4.0"
  }
 },
 "nbformat": 4,
 "nbformat_minor": 5
}
